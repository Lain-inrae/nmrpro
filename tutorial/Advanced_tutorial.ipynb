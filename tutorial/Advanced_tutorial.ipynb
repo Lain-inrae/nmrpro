{
 "cells": [
  {
   "cell_type": "markdown",
   "metadata": {},
   "source": [
    "# Advanced plugin development for NMRPro\n",
    "This tutorial dicusses special cases in plugins development where the [basic tutorial](For_developers.ipynb) falls short. Please be sure to read the [basic tutorial](For_developers.ipynb) first.\n",
    "\n",
    "Here, we discuss the following 4 points:\n",
    "1. Customizing input elements\n",
    "2. Combining multiple functions in one jsCommand using `Include`\n",
    "3. Specifying function order in the workflow.\n",
    "4. R functions as plugins"
   ]
  },
  {
   "cell_type": "code",
   "execution_count": null,
   "metadata": {
    "collapsed": true
   },
   "outputs": [],
   "source": []
  },
  {
   "cell_type": "markdown",
   "metadata": {},
   "source": [
    "## 4. R functions as plugins\n",
    "To harness the power of R spectral process functionalities, NMRPro comes with module to facilitate this integration. We illustrate below with an example, using `baseline` function from the package `baseline`. Please note that you need R and the required packages installed beforehand. Also you need to install `rpy2` using `pip install`."
   ]
  },
  {
   "cell_type": "code",
   "execution_count": null,
   "metadata": {
    "collapsed": false
   },
   "outputs": [],
   "source": [
    "from nmrpro.R import *\n",
    "@R_function\n",
    "def baseline(s, method='irls'):\n",
    "    library('baseline')\n",
    "    rmatrix = r.matrix(s, nrow=1) #baseline function requires input spectra as matrix\n",
    "    \n",
    "    bl = r.baseline(rmatrix, method=method)\n",
    "    return r.getCorrected(bl)"
   ]
  },
  {
   "cell_type": "markdown",
   "metadata": {},
   "source": [
    "First, we import `R` module from NMRPro, which contains four elements\n",
    " - `R_function` decorator: following the theme in plugin development, we use decorators to make plugin development easier. The decorator converts R vectors to NMRSpectrum objects seamlessly.\n",
    " - `library` function: imports packages in R.\n",
    " - `r` object: This is a python representation for R. All R variables and imported functions can be used by following the pattern `r.functionname`. In our example, `r.matrix`, `r.baseline` and `r.getCorrected` are R functions used directly in python.\n",
    " - `reval` function: Simply pass an R script as argument to get it *eval*uated in R. \n",
    "\n",
    "If you need additional advanced functionalities, you can refer to [rpy2 package documentation](http://rpy.sourceforge.net/rpy2/doc-dev/html/introduction.html)"
   ]
  }
 ],
 "metadata": {
  "kernelspec": {
   "display_name": "Python 2",
   "language": "python",
   "name": "python2"
  },
  "language_info": {
   "codemirror_mode": {
    "name": "ipython",
    "version": 2
   },
   "file_extension": ".py",
   "mimetype": "text/x-python",
   "name": "python",
   "nbconvert_exporter": "python",
   "pygments_lexer": "ipython2",
   "version": "2.7.10"
  }
 },
 "nbformat": 4,
 "nbformat_minor": 0
}
