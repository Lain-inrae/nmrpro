{
 "cells": [
  {
   "cell_type": "markdown",
   "metadata": {},
   "source": [
    "# Extending NMRPro\n",
    "NNMRPro python package is extensible using plugins. These plugins integrate seamlessly with the Django-nmrpro App to autamtically generate client-side GUI.\n",
    "\n",
    "Developing plugins does not require any JavaScript or Django programming, or knowledge of the internal structure of NMRPro objects. Alternatively, NMRPro provides a set of **function decorators** to allow plain python functions to integrate into the web component. After using the proper decorators NMR spectra can be processed as ordianry numpy arrays.\n",
    "\n",
    "This tutorial illustrates by example how to use these decorators. Consider we want to add a Fourier transform function to NMRPro:"
   ]
  },
  {
   "cell_type": "code",
   "execution_count": null,
   "metadata": {
    "collapsed": true
   },
   "outputs": [],
   "source": [
    "@jsCommand(path=['Processing', 'FFT'], nd=[1,2])  \n",
    "@interaction(method=('positive', 'normalized')  \n",
    "@perSpectrum\n",
    "@perDimension\n",
    "def fft(s, method='positive'):  \n",
    "    # Function body "
   ]
  },
  {
   "cell_type": "markdown",
   "metadata": {},
   "source": [
    "We exaplain this example line-by-line, starting from the bottom:"
   ]
  },
  {
   "cell_type": "code",
   "execution_count": null,
   "metadata": {
    "collapsed": false
   },
   "outputs": [],
   "source": [
    "def fft(s, method='positive'):  "
   ]
  },
  {
   "cell_type": "markdown",
   "metadata": {},
   "source": [
    "This is a normal Python function definition, taking the spectrum as an argument. Note that the spectrum must be the first argument."
   ]
  },
  {
   "cell_type": "code",
   "execution_count": null,
   "metadata": {
    "collapsed": true
   },
   "outputs": [],
   "source": [
    "@perDimension"
   ]
  },
  {
   "cell_type": "markdown",
   "metadata": {},
   "source": [
    "This decorator indicates that this function is compatible with N-Dimensional spectra. When an N-Dimensional spectrum is passed as an argument, the funnction (*Fourier transform* here) is applied to each dimension (*F1*, *F2*, ...) autmatically. `perDimension` also provide ways to specify function arguments for each dimension (*see [the introductory tuorial](NMRPro_tutorial.ipynb) point #4 *)"
   ]
  },
  {
   "cell_type": "code",
   "execution_count": null,
   "metadata": {
    "collapsed": true
   },
   "outputs": [],
   "source": [
    "@perSpectrum"
   ]
  },
  {
   "cell_type": "markdown",
   "metadata": {},
   "source": [
    "This decorator loops over datasets, allowing seamless batch processing. The decorator also takes care of registering the function in the NMRSpectrum history."
   ]
  },
  {
   "cell_type": "code",
   "execution_count": null,
   "metadata": {
    "collapsed": true
   },
   "outputs": [],
   "source": [
    "@interaction(method=('positive', 'normalized')"
   ]
  },
  {
   "cell_type": "markdown",
   "metadata": {},
   "source": [
    "The `interaction` decorator defines which arguments can be modified by the user. In this example, it indicates that the `method` argument can be either `positive` or `normalized`.\n",
    "\n",
    "We use the same pattern as ipywidgets [interact decorator](https://github.com/ipython/ipywidgets/blob/master/examples/notebooks/Using%20Interact.ipynb) for devlopers convenience. Please refer to ipywidget manual for more examples."
   ]
  },
  {
   "cell_type": "code",
   "execution_count": null,
   "metadata": {
    "collapsed": false
   },
   "outputs": [],
   "source": [
    "@jsCommand(path=['Processing', 'FFT'], nd=[1,2])  "
   ]
  },
  {
   "cell_type": "markdown",
   "metadata": {},
   "source": [
    "Finally, `jsCommand` generates a GUI menu entry for our function. We specify the `path` where this menu entry will be placed (This one generates `FFT` entry under `Processing`). Also, we specify when should this entry be shown to the user in the `nd` argument (in this case, the enrty is displyed when the user is viewing 1D and 2D spectra)."
   ]
  },
  {
   "cell_type": "markdown",
   "metadata": {},
   "source": [
    "### Order of decorators\n",
    "Please note that the order or decorators is important, and developers should follow the same order in the above example"
   ]
  },
  {
   "cell_type": "markdown",
   "metadata": {},
   "source": [
    "### Connecting to client-side\n",
    "For the Django App to be able to collect GUI information from our developed plugin, all we need to to is import the function anywhere when the the server is run. We can do that in one of 2 ways:\n",
    "1. Put the function in subfolder under `nmrpro.plugins`. On start, Django App autmatically imports all subfolders under plugins.\n",
    "2. Manually import it from Django App (in views.py or urls.py)."
   ]
  },
  {
   "cell_type": "markdown",
   "metadata": {},
   "source": [
    "## More details?\n",
    "While this tutorial should be enough for most cases, please refer to the [advanced tutorial](Advanced_tutorial.ipynb) for special cases."
   ]
  }
 ],
 "metadata": {
  "kernelspec": {
   "display_name": "Python 2",
   "language": "python",
   "name": "python2"
  },
  "language_info": {
   "codemirror_mode": {
    "name": "ipython",
    "version": 2
   },
   "file_extension": ".py",
   "mimetype": "text/x-python",
   "name": "python",
   "nbconvert_exporter": "python",
   "pygments_lexer": "ipython2",
   "version": "2.7.10"
  }
 },
 "nbformat": 4,
 "nbformat_minor": 0
}
