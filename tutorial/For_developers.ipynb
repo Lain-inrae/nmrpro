{
 "cells": [
  {
   "cell_type": "markdown",
   "metadata": {},
   "source": [
    "Describe the main plugin architecture and how to implement them. Specifically describe:\n",
    "- web\\* functions\n",
    "- decorators: ndarray_subclasser, perSpectrum, perRow, both_dimensions\n",
    "- JSCommands"
   ]
  }
 ],
 "metadata": {
  "kernelspec": {
   "display_name": "Python 2",
   "language": "python",
   "name": "python2"
  },
  "language_info": {
   "codemirror_mode": {
    "name": "ipython",
    "version": 2
   },
   "file_extension": ".py",
   "mimetype": "text/x-python",
   "name": "python",
   "nbconvert_exporter": "python",
   "pygments_lexer": "ipython2",
   "version": "2.7.10"
  }
 },
 "nbformat": 4,
 "nbformat_minor": 0
}
